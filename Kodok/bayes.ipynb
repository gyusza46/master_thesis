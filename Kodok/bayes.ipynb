{
 "cells": [
  {
   "cell_type": "code",
   "execution_count": 10,
   "metadata": {},
   "outputs": [],
   "source": [
    "import pandas as pd\n",
    "import numpy as np\n",
    "import matplotlib.pyplot as plt\n",
    "from scipy.optimize import minimize"
   ]
  },
  {
   "cell_type": "code",
   "execution_count": 11,
   "metadata": {},
   "outputs": [
    {
     "name": "stderr",
     "output_type": "stream",
     "text": [
      "C:\\Users\\User\\AppData\\Local\\Temp\\ipykernel_21040\\2745233372.py:3: UserWarning: Parsing dates in %d/%m/%Y format when dayfirst=False (the default) was specified. Pass `dayfirst=True` or specify a format to silence this warning.\n",
      "  data.index = pd.to_datetime(data.index)\n"
     ]
    }
   ],
   "source": [
    "data = pd.read_csv('adatok_csv.csv')\n",
    "data.set_index('Date', inplace=True)\n",
    "data.index = pd.to_datetime(data.index)\n",
    "data.sort_index(ascending=False, inplace=True)\n",
    "\n",
    "data = data.loc['2022-01-03':]\n",
    "#data = data[]\n",
    "\n",
    "data = data[['SP500', 'MSCI WORLD', 'MXEA', 'MXEF', 'US Agg Bond', 'Global Bond', 'US HY', 'DAX', 'Amazon', 'Apple ', 'Berkshire']]"
   ]
  },
  {
   "cell_type": "code",
   "execution_count": 14,
   "metadata": {},
   "outputs": [],
   "source": [
    "# napi log hozamok\n",
    "daily_returns = np.log(data / data.shift(-1))\n",
    "# évesített várható hozam\n",
    "mean_returns = daily_returns.mean() * 250\n",
    "# évesített kovariancia mátrix\n",
    "cov_matrix = daily_returns.cov() * 250\n",
    "std = np.sqrt(np.diagonal(cov_matrix))\n",
    "num_assets = len(mean_returns)\n"
   ]
  },
  {
   "cell_type": "code",
   "execution_count": 15,
   "metadata": {},
   "outputs": [
    {
     "data": {
      "text/html": [
       "<div>\n",
       "<style scoped>\n",
       "    .dataframe tbody tr th:only-of-type {\n",
       "        vertical-align: middle;\n",
       "    }\n",
       "\n",
       "    .dataframe tbody tr th {\n",
       "        vertical-align: top;\n",
       "    }\n",
       "\n",
       "    .dataframe thead th {\n",
       "        text-align: right;\n",
       "    }\n",
       "</style>\n",
       "<table border=\"1\" class=\"dataframe\">\n",
       "  <thead>\n",
       "    <tr style=\"text-align: right;\">\n",
       "      <th></th>\n",
       "      <th>Várható érték</th>\n",
       "      <th>Szórás</th>\n",
       "    </tr>\n",
       "  </thead>\n",
       "  <tbody>\n",
       "    <tr>\n",
       "      <th>SP500</th>\n",
       "      <td>7.19%</td>\n",
       "      <td>17.27%</td>\n",
       "    </tr>\n",
       "    <tr>\n",
       "      <th>MSCI WORLD</th>\n",
       "      <td>-0.93%</td>\n",
       "      <td>32.08%</td>\n",
       "    </tr>\n",
       "    <tr>\n",
       "      <th>MXEA</th>\n",
       "      <td>1.50%</td>\n",
       "      <td>15.31%</td>\n",
       "    </tr>\n",
       "    <tr>\n",
       "      <th>MXEF</th>\n",
       "      <td>-2.30%</td>\n",
       "      <td>15.94%</td>\n",
       "    </tr>\n",
       "    <tr>\n",
       "      <th>US Agg Bond</th>\n",
       "      <td>-1.60%</td>\n",
       "      <td>6.76%</td>\n",
       "    </tr>\n",
       "    <tr>\n",
       "      <th>Global Bond</th>\n",
       "      <td>-3.70%</td>\n",
       "      <td>6.72%</td>\n",
       "    </tr>\n",
       "    <tr>\n",
       "      <th>US HY</th>\n",
       "      <td>3.29%</td>\n",
       "      <td>5.28%</td>\n",
       "    </tr>\n",
       "    <tr>\n",
       "      <th>DAX</th>\n",
       "      <td>8.10%</td>\n",
       "      <td>21.33%</td>\n",
       "    </tr>\n",
       "    <tr>\n",
       "      <th>Amazon</th>\n",
       "      <td>7.63%</td>\n",
       "      <td>37.72%</td>\n",
       "    </tr>\n",
       "    <tr>\n",
       "      <th>Apple</th>\n",
       "      <td>9.52%</td>\n",
       "      <td>26.99%</td>\n",
       "    </tr>\n",
       "    <tr>\n",
       "      <th>Berkshire</th>\n",
       "      <td>14.59%</td>\n",
       "      <td>17.46%</td>\n",
       "    </tr>\n",
       "  </tbody>\n",
       "</table>\n",
       "</div>"
      ],
      "text/plain": [
       "             Várható érték  Szórás\n",
       "SP500                7.19%  17.27%\n",
       "MSCI WORLD          -0.93%  32.08%\n",
       "MXEA                 1.50%  15.31%\n",
       "MXEF                -2.30%  15.94%\n",
       "US Agg Bond         -1.60%   6.76%\n",
       "Global Bond         -3.70%   6.72%\n",
       "US HY                3.29%   5.28%\n",
       "DAX                  8.10%  21.33%\n",
       "Amazon               7.63%  37.72%\n",
       "Apple                9.52%  26.99%\n",
       "Berkshire           14.59%  17.46%"
      ]
     },
     "execution_count": 15,
     "metadata": {},
     "output_type": "execute_result"
    }
   ],
   "source": [
    "pd.options.display.float_format = '{:.2f}%'.format\n",
    "\n",
    "asset_summarum = pd.DataFrame(index = mean_returns.index, columns = ['Várható érték', 'Szórás'])\n",
    "asset_summarum['Várható érték'] = mean_returns   \n",
    "asset_summarum['Szórás'] = std\n",
    "asset_summarum*100"
   ]
  },
  {
   "cell_type": "code",
   "execution_count": 16,
   "metadata": {},
   "outputs": [],
   "source": [
    "pd.options.display.float_format = '{:.2f}'.format\n"
   ]
  },
  {
   "cell_type": "code",
   "execution_count": 17,
   "metadata": {},
   "outputs": [],
   "source": [
    "import numpy as np\n",
    "import jax.numpy as jnp\n",
    "import numpyro\n",
    "import numpyro.distributions as dist\n",
    "from numpyro.infer import MCMC, NUTS\n",
    "import jax"
   ]
  },
  {
   "cell_type": "code",
   "execution_count": null,
   "metadata": {},
   "outputs": [
    {
     "name": "stderr",
     "output_type": "stream",
     "text": [
      "sample: 100%|██████████| 2000/2000 [00:03<00:00, 663.55it/s, 15 steps of size 2.20e-01. acc. prob=0.93] "
     ]
    },
    {
     "name": "stdout",
     "output_type": "stream",
     "text": [
      "Optimal Portfolio Weights: [0.         0.38023401 0.61976599]\n"
     ]
    },
    {
     "name": "stderr",
     "output_type": "stream",
     "text": [
      "\n"
     ]
    }
   ],
   "source": [
    "\n",
    "# Generate example data: Historical returns for 3 assets (A, B, C)\n",
    "returns = np.random.multivariate_normal(mean=[0.05, 0.06, 0.04], \n",
    "                                        cov=[[0.1, 0.02, 0.03], \n",
    "                                             [0.02, 0.15, 0.04], \n",
    "                                             [0.03, 0.04, 0.12]], \n",
    "                                        size=100)\n",
    "\n",
    "# # Bayesian Model using NumPyro\n",
    "\n",
    "def model():\n",
    "\n",
    "    mu = numpyro.sample(\"mu\", dist.Normal(0, 1).expand([3]))  # Prior for expected returns\n",
    "    cov = numpyro.sample(\"cov\", dist.LKJCholesky(3, concentration=1))  # Covariance structure\n",
    "    \n",
    "    # Likelihood\n",
    "    numpyro.sample(\"returns_obs\", dist.MultivariateNormal(mu, scale_tril=cov), obs=returns)\n",
    "\n",
    "# Inference using NUTS (No-U-Turn Sampler)\n",
    "nuts_kernel = NUTS(model)\n",
    "mcmc = MCMC(nuts_kernel, num_samples=1000, num_warmup=1000)\n",
    "mcmc.run(jax.random.PRNGKey(0))  # Random seed\n",
    "\n",
    "# Extract Posterior Samples\n",
    "posterior_samples = mcmc.get_samples()\n",
    "mu_posterior = jnp.mean(posterior_samples['mu'], axis=0)\n",
    "cov_posterior = jnp.mean(posterior_samples['cov'], axis=0)\n",
    "\n",
    "# Convert JAX arrays to NumPy\n",
    "mu_posterior = np.array(mu_posterior)\n",
    "cov_posterior = np.array(cov_posterior)\n",
    "\n",
    "# Portfolio optimization (e.g., maximize Sharpe ratio)\n",
    "from scipy.optimize import minimize\n",
    "\n",
    "def sharpe_ratio(weights, mu, cov):\n",
    "    portfolio_return = np.dot(weights, mu)\n",
    "    portfolio_volatility = np.sqrt(np.dot(weights.T, np.dot(cov, weights)))\n",
    "    return -portfolio_return / portfolio_volatility  # Negative for minimization\n",
    "\n",
    "# Constraints: weights sum to 1, no shorting\n",
    "constraints = ({'type': 'eq', 'fun': lambda w: np.sum(w) - 1})\n",
    "bounds = [(0, 1) for _ in range(3)]\n",
    "\n",
    "# Initial guess (equal weights)\n",
    "initial_weights = np.array([1/3, 1/3, 1/3])\n",
    "\n",
    "# Optimize\n",
    "result = minimize(sharpe_ratio, initial_weights, args=(mu_posterior, cov_posterior), bounds=bounds, constraints=constraints)\n",
    "\n",
    "# Optimal weights\n",
    "optimal_weights = result.x\n",
    "print(\"Optimal Portfolio Weights:\", optimal_weights)\n"
   ]
  },
  {
   "cell_type": "code",
   "execution_count": null,
   "metadata": {},
   "outputs": [],
   "source": []
  },
  {
   "cell_type": "code",
   "execution_count": null,
   "metadata": {},
   "outputs": [],
   "source": []
  },
  {
   "cell_type": "code",
   "execution_count": null,
   "metadata": {},
   "outputs": [],
   "source": []
  },
  {
   "cell_type": "code",
   "execution_count": null,
   "metadata": {},
   "outputs": [],
   "source": []
  }
 ],
 "metadata": {
  "kernelspec": {
   "display_name": "Python 3",
   "language": "python",
   "name": "python3"
  },
  "language_info": {
   "codemirror_mode": {
    "name": "ipython",
    "version": 3
   },
   "file_extension": ".py",
   "mimetype": "text/x-python",
   "name": "python",
   "nbconvert_exporter": "python",
   "pygments_lexer": "ipython3",
   "version": "3.13.2"
  }
 },
 "nbformat": 4,
 "nbformat_minor": 2
}
